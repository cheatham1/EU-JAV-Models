{
  "nbformat": 4,
  "nbformat_minor": 0,
  "metadata": {
    "colab": {
      "name": "Plot_EU-JAV-VaccineStance.ipynb",
      "provenance": [],
      "include_colab_link": true
    },
    "kernelspec": {
      "name": "python3",
      "display_name": "Python 3"
    },
    "language_info": {
      "name": "python"
    },
    "widgets": {
      "application/vnd.jupyter.widget-state+json": {
        "baab2c45ffbf42b3bd64cbfbfd2e1ca8": {
          "model_module": "@jupyter-widgets/controls",
          "model_name": "HBoxModel",
          "model_module_version": "1.5.0",
          "state": {
            "_view_name": "HBoxView",
            "_dom_classes": [],
            "_model_name": "HBoxModel",
            "_view_module": "@jupyter-widgets/controls",
            "_model_module_version": "1.5.0",
            "_view_count": null,
            "_view_module_version": "1.5.0",
            "box_style": "",
            "layout": "IPY_MODEL_6a91c74d9ed047d2b8b593d43fdf776a",
            "_model_module": "@jupyter-widgets/controls",
            "children": [
              "IPY_MODEL_6edd04494dc9452c9aaec0ccddecefae",
              "IPY_MODEL_6ec86e6e479546cb8fa7fad08b49a068",
              "IPY_MODEL_e5b4e9cf37614718b2f922f7c1add50a"
            ]
          }
        },
        "6a91c74d9ed047d2b8b593d43fdf776a": {
          "model_module": "@jupyter-widgets/base",
          "model_name": "LayoutModel",
          "model_module_version": "1.2.0",
          "state": {
            "_view_name": "LayoutView",
            "grid_template_rows": null,
            "right": null,
            "justify_content": null,
            "_view_module": "@jupyter-widgets/base",
            "overflow": null,
            "_model_module_version": "1.2.0",
            "_view_count": null,
            "flex_flow": null,
            "width": null,
            "min_width": null,
            "border": null,
            "align_items": null,
            "bottom": null,
            "_model_module": "@jupyter-widgets/base",
            "top": null,
            "grid_column": null,
            "overflow_y": null,
            "overflow_x": null,
            "grid_auto_flow": null,
            "grid_area": null,
            "grid_template_columns": null,
            "flex": null,
            "_model_name": "LayoutModel",
            "justify_items": null,
            "grid_row": null,
            "max_height": null,
            "align_content": null,
            "visibility": null,
            "align_self": null,
            "height": null,
            "min_height": null,
            "padding": null,
            "grid_auto_rows": null,
            "grid_gap": null,
            "max_width": null,
            "order": null,
            "_view_module_version": "1.2.0",
            "grid_template_areas": null,
            "object_position": null,
            "object_fit": null,
            "grid_auto_columns": null,
            "margin": null,
            "display": null,
            "left": null
          }
        },
        "6edd04494dc9452c9aaec0ccddecefae": {
          "model_module": "@jupyter-widgets/controls",
          "model_name": "HTMLModel",
          "model_module_version": "1.5.0",
          "state": {
            "_view_name": "HTMLView",
            "style": "IPY_MODEL_ca5781919c9d4112a4f9e3cbd14595a6",
            "_dom_classes": [],
            "description": "",
            "_model_name": "HTMLModel",
            "placeholder": "​",
            "_view_module": "@jupyter-widgets/controls",
            "_model_module_version": "1.5.0",
            "value": "Downloading:  38%",
            "_view_count": null,
            "_view_module_version": "1.5.0",
            "description_tooltip": null,
            "_model_module": "@jupyter-widgets/controls",
            "layout": "IPY_MODEL_3091da4c2d864b0da44c4d994c21526b"
          }
        },
        "6ec86e6e479546cb8fa7fad08b49a068": {
          "model_module": "@jupyter-widgets/controls",
          "model_name": "FloatProgressModel",
          "model_module_version": "1.5.0",
          "state": {
            "_view_name": "ProgressView",
            "style": "IPY_MODEL_fe615ffd934b407cbb650d12d966a5ba",
            "_dom_classes": [],
            "description": "",
            "_model_name": "FloatProgressModel",
            "bar_style": "",
            "max": 2239738157,
            "_view_module": "@jupyter-widgets/controls",
            "_model_module_version": "1.5.0",
            "value": 840105984,
            "_view_count": null,
            "_view_module_version": "1.5.0",
            "orientation": "horizontal",
            "min": 0,
            "description_tooltip": null,
            "_model_module": "@jupyter-widgets/controls",
            "layout": "IPY_MODEL_8b52abe35e5349c8a2d31fcfff821eab"
          }
        },
        "e5b4e9cf37614718b2f922f7c1add50a": {
          "model_module": "@jupyter-widgets/controls",
          "model_name": "HTMLModel",
          "model_module_version": "1.5.0",
          "state": {
            "_view_name": "HTMLView",
            "style": "IPY_MODEL_b729895534ec4858b4f5c414c16d5c81",
            "_dom_classes": [],
            "description": "",
            "_model_name": "HTMLModel",
            "placeholder": "​",
            "_view_module": "@jupyter-widgets/controls",
            "_model_module_version": "1.5.0",
            "value": " 801M/2.09G [03:09&lt;17:17, 1.35MB/s]",
            "_view_count": null,
            "_view_module_version": "1.5.0",
            "description_tooltip": null,
            "_model_module": "@jupyter-widgets/controls",
            "layout": "IPY_MODEL_81ab3f7abd324f999db6cd4ef8e43da8"
          }
        },
        "ca5781919c9d4112a4f9e3cbd14595a6": {
          "model_module": "@jupyter-widgets/controls",
          "model_name": "DescriptionStyleModel",
          "model_module_version": "1.5.0",
          "state": {
            "_view_name": "StyleView",
            "_model_name": "DescriptionStyleModel",
            "description_width": "",
            "_view_module": "@jupyter-widgets/base",
            "_model_module_version": "1.5.0",
            "_view_count": null,
            "_view_module_version": "1.2.0",
            "_model_module": "@jupyter-widgets/controls"
          }
        },
        "3091da4c2d864b0da44c4d994c21526b": {
          "model_module": "@jupyter-widgets/base",
          "model_name": "LayoutModel",
          "model_module_version": "1.2.0",
          "state": {
            "_view_name": "LayoutView",
            "grid_template_rows": null,
            "right": null,
            "justify_content": null,
            "_view_module": "@jupyter-widgets/base",
            "overflow": null,
            "_model_module_version": "1.2.0",
            "_view_count": null,
            "flex_flow": null,
            "width": null,
            "min_width": null,
            "border": null,
            "align_items": null,
            "bottom": null,
            "_model_module": "@jupyter-widgets/base",
            "top": null,
            "grid_column": null,
            "overflow_y": null,
            "overflow_x": null,
            "grid_auto_flow": null,
            "grid_area": null,
            "grid_template_columns": null,
            "flex": null,
            "_model_name": "LayoutModel",
            "justify_items": null,
            "grid_row": null,
            "max_height": null,
            "align_content": null,
            "visibility": null,
            "align_self": null,
            "height": null,
            "min_height": null,
            "padding": null,
            "grid_auto_rows": null,
            "grid_gap": null,
            "max_width": null,
            "order": null,
            "_view_module_version": "1.2.0",
            "grid_template_areas": null,
            "object_position": null,
            "object_fit": null,
            "grid_auto_columns": null,
            "margin": null,
            "display": null,
            "left": null
          }
        },
        "fe615ffd934b407cbb650d12d966a5ba": {
          "model_module": "@jupyter-widgets/controls",
          "model_name": "ProgressStyleModel",
          "model_module_version": "1.5.0",
          "state": {
            "_view_name": "StyleView",
            "_model_name": "ProgressStyleModel",
            "description_width": "",
            "_view_module": "@jupyter-widgets/base",
            "_model_module_version": "1.5.0",
            "_view_count": null,
            "_view_module_version": "1.2.0",
            "bar_color": null,
            "_model_module": "@jupyter-widgets/controls"
          }
        },
        "8b52abe35e5349c8a2d31fcfff821eab": {
          "model_module": "@jupyter-widgets/base",
          "model_name": "LayoutModel",
          "model_module_version": "1.2.0",
          "state": {
            "_view_name": "LayoutView",
            "grid_template_rows": null,
            "right": null,
            "justify_content": null,
            "_view_module": "@jupyter-widgets/base",
            "overflow": null,
            "_model_module_version": "1.2.0",
            "_view_count": null,
            "flex_flow": null,
            "width": null,
            "min_width": null,
            "border": null,
            "align_items": null,
            "bottom": null,
            "_model_module": "@jupyter-widgets/base",
            "top": null,
            "grid_column": null,
            "overflow_y": null,
            "overflow_x": null,
            "grid_auto_flow": null,
            "grid_area": null,
            "grid_template_columns": null,
            "flex": null,
            "_model_name": "LayoutModel",
            "justify_items": null,
            "grid_row": null,
            "max_height": null,
            "align_content": null,
            "visibility": null,
            "align_self": null,
            "height": null,
            "min_height": null,
            "padding": null,
            "grid_auto_rows": null,
            "grid_gap": null,
            "max_width": null,
            "order": null,
            "_view_module_version": "1.2.0",
            "grid_template_areas": null,
            "object_position": null,
            "object_fit": null,
            "grid_auto_columns": null,
            "margin": null,
            "display": null,
            "left": null
          }
        },
        "b729895534ec4858b4f5c414c16d5c81": {
          "model_module": "@jupyter-widgets/controls",
          "model_name": "DescriptionStyleModel",
          "model_module_version": "1.5.0",
          "state": {
            "_view_name": "StyleView",
            "_model_name": "DescriptionStyleModel",
            "description_width": "",
            "_view_module": "@jupyter-widgets/base",
            "_model_module_version": "1.5.0",
            "_view_count": null,
            "_view_module_version": "1.2.0",
            "_model_module": "@jupyter-widgets/controls"
          }
        },
        "81ab3f7abd324f999db6cd4ef8e43da8": {
          "model_module": "@jupyter-widgets/base",
          "model_name": "LayoutModel",
          "model_module_version": "1.2.0",
          "state": {
            "_view_name": "LayoutView",
            "grid_template_rows": null,
            "right": null,
            "justify_content": null,
            "_view_module": "@jupyter-widgets/base",
            "overflow": null,
            "_model_module_version": "1.2.0",
            "_view_count": null,
            "flex_flow": null,
            "width": null,
            "min_width": null,
            "border": null,
            "align_items": null,
            "bottom": null,
            "_model_module": "@jupyter-widgets/base",
            "top": null,
            "grid_column": null,
            "overflow_y": null,
            "overflow_x": null,
            "grid_auto_flow": null,
            "grid_area": null,
            "grid_template_columns": null,
            "flex": null,
            "_model_name": "LayoutModel",
            "justify_items": null,
            "grid_row": null,
            "max_height": null,
            "align_content": null,
            "visibility": null,
            "align_self": null,
            "height": null,
            "min_height": null,
            "padding": null,
            "grid_auto_rows": null,
            "grid_gap": null,
            "max_width": null,
            "order": null,
            "_view_module_version": "1.2.0",
            "grid_template_areas": null,
            "object_position": null,
            "object_fit": null,
            "grid_auto_columns": null,
            "margin": null,
            "display": null,
            "left": null
          }
        }
      }
    }
  },
  "cells": [
    {
      "cell_type": "markdown",
      "metadata": {
        "id": "view-in-github",
        "colab_type": "text"
      },
      "source": [
        "<a href=\"https://colab.research.google.com/github/cheatham1/EU-JAV-Models/blob/main/Plot_EU_JAV_VaccineStance.ipynb\" target=\"_parent\"><img src=\"https://colab.research.google.com/assets/colab-badge.svg\" alt=\"Open In Colab\"/></a>"
      ]
    },
    {
      "cell_type": "code",
      "metadata": {
        "colab": {
          "base_uri": "https://localhost:8080/"
        },
        "id": "FB8BPCJgAlPH",
        "outputId": "12f2279c-debd-48ef-d945-0b62adc7f64a"
      },
      "source": [
        "!pip install --upgrade transformers\n",
        "!pip install sentencepiece\n",
        "\n",
        "import numpy as np\n",
        "import pandas as pd\n",
        "import json\n",
        "\n",
        "import torch\n",
        "\n",
        "from transformers import AutoTokenizer, AutoModel, AutoConfig, AutoModelForSequenceClassification\n",
        "from transformers import XLMRobertaTokenizer, XLMRobertaForSequenceClassification\n",
        "from transformers import pipeline\n"
      ],
      "execution_count": 1,
      "outputs": [
        {
          "output_type": "stream",
          "name": "stdout",
          "text": [
            "Collecting transformers\n",
            "  Downloading transformers-4.15.0-py3-none-any.whl (3.4 MB)\n",
            "\u001b[K     |████████████████████████████████| 3.4 MB 13.9 MB/s \n",
            "\u001b[?25hRequirement already satisfied: tqdm>=4.27 in /usr/local/lib/python3.7/dist-packages (from transformers) (4.62.3)\n",
            "Collecting pyyaml>=5.1\n",
            "  Downloading PyYAML-6.0-cp37-cp37m-manylinux_2_5_x86_64.manylinux1_x86_64.manylinux_2_12_x86_64.manylinux2010_x86_64.whl (596 kB)\n",
            "\u001b[K     |████████████████████████████████| 596 kB 73.1 MB/s \n",
            "\u001b[?25hRequirement already satisfied: numpy>=1.17 in /usr/local/lib/python3.7/dist-packages (from transformers) (1.19.5)\n",
            "Collecting sacremoses\n",
            "  Downloading sacremoses-0.0.47-py2.py3-none-any.whl (895 kB)\n",
            "\u001b[K     |████████████████████████████████| 895 kB 78.2 MB/s \n",
            "\u001b[?25hRequirement already satisfied: filelock in /usr/local/lib/python3.7/dist-packages (from transformers) (3.4.2)\n",
            "Collecting huggingface-hub<1.0,>=0.1.0\n",
            "  Downloading huggingface_hub-0.4.0-py3-none-any.whl (67 kB)\n",
            "\u001b[K     |████████████████████████████████| 67 kB 5.2 MB/s \n",
            "\u001b[?25hRequirement already satisfied: requests in /usr/local/lib/python3.7/dist-packages (from transformers) (2.23.0)\n",
            "Requirement already satisfied: packaging>=20.0 in /usr/local/lib/python3.7/dist-packages (from transformers) (21.3)\n",
            "Requirement already satisfied: importlib-metadata in /usr/local/lib/python3.7/dist-packages (from transformers) (4.10.0)\n",
            "Requirement already satisfied: regex!=2019.12.17 in /usr/local/lib/python3.7/dist-packages (from transformers) (2019.12.20)\n",
            "Collecting tokenizers<0.11,>=0.10.1\n",
            "  Downloading tokenizers-0.10.3-cp37-cp37m-manylinux_2_5_x86_64.manylinux1_x86_64.manylinux_2_12_x86_64.manylinux2010_x86_64.whl (3.3 MB)\n",
            "\u001b[K     |████████████████████████████████| 3.3 MB 44.3 MB/s \n",
            "\u001b[?25hRequirement already satisfied: typing-extensions>=3.7.4.3 in /usr/local/lib/python3.7/dist-packages (from huggingface-hub<1.0,>=0.1.0->transformers) (3.10.0.2)\n",
            "Requirement already satisfied: pyparsing!=3.0.5,>=2.0.2 in /usr/local/lib/python3.7/dist-packages (from packaging>=20.0->transformers) (3.0.6)\n",
            "Requirement already satisfied: zipp>=0.5 in /usr/local/lib/python3.7/dist-packages (from importlib-metadata->transformers) (3.7.0)\n",
            "Requirement already satisfied: chardet<4,>=3.0.2 in /usr/local/lib/python3.7/dist-packages (from requests->transformers) (3.0.4)\n",
            "Requirement already satisfied: certifi>=2017.4.17 in /usr/local/lib/python3.7/dist-packages (from requests->transformers) (2021.10.8)\n",
            "Requirement already satisfied: urllib3!=1.25.0,!=1.25.1,<1.26,>=1.21.1 in /usr/local/lib/python3.7/dist-packages (from requests->transformers) (1.24.3)\n",
            "Requirement already satisfied: idna<3,>=2.5 in /usr/local/lib/python3.7/dist-packages (from requests->transformers) (2.10)\n",
            "Requirement already satisfied: click in /usr/local/lib/python3.7/dist-packages (from sacremoses->transformers) (7.1.2)\n",
            "Requirement already satisfied: joblib in /usr/local/lib/python3.7/dist-packages (from sacremoses->transformers) (1.1.0)\n",
            "Requirement already satisfied: six in /usr/local/lib/python3.7/dist-packages (from sacremoses->transformers) (1.15.0)\n",
            "Installing collected packages: pyyaml, tokenizers, sacremoses, huggingface-hub, transformers\n",
            "  Attempting uninstall: pyyaml\n",
            "    Found existing installation: PyYAML 3.13\n",
            "    Uninstalling PyYAML-3.13:\n",
            "      Successfully uninstalled PyYAML-3.13\n",
            "Successfully installed huggingface-hub-0.4.0 pyyaml-6.0 sacremoses-0.0.47 tokenizers-0.10.3 transformers-4.15.0\n",
            "Collecting sentencepiece\n",
            "  Downloading sentencepiece-0.1.96-cp37-cp37m-manylinux_2_17_x86_64.manylinux2014_x86_64.whl (1.2 MB)\n",
            "\u001b[K     |████████████████████████████████| 1.2 MB 13.4 MB/s \n",
            "\u001b[?25hInstalling collected packages: sentencepiece\n",
            "Successfully installed sentencepiece-0.1.96\n"
          ]
        }
      ]
    },
    {
      "cell_type": "markdown",
      "metadata": {
        "id": "hqFUjepLjs6m"
      },
      "source": [
        "# New Section"
      ]
    },
    {
      "cell_type": "code",
      "metadata": {
        "id": "4_7XFCBMU5fr"
      },
      "source": [
        "model_name = \"Cheatham/xlm-roberta-large-finetuned\"\n",
        "#model_name = \"Cheatham/xlm-roberta-large-finetuned4\""
      ],
      "execution_count": 7,
      "outputs": []
    },
    {
      "cell_type": "code",
      "metadata": {
        "id": "qY4QX-jX4nxq",
        "colab": {
          "base_uri": "https://localhost:8080/",
          "height": 49,
          "referenced_widgets": [
            "baab2c45ffbf42b3bd64cbfbfd2e1ca8",
            "6a91c74d9ed047d2b8b593d43fdf776a",
            "6edd04494dc9452c9aaec0ccddecefae",
            "6ec86e6e479546cb8fa7fad08b49a068",
            "e5b4e9cf37614718b2f922f7c1add50a",
            "ca5781919c9d4112a4f9e3cbd14595a6",
            "3091da4c2d864b0da44c4d994c21526b",
            "fe615ffd934b407cbb650d12d966a5ba",
            "8b52abe35e5349c8a2d31fcfff821eab",
            "b729895534ec4858b4f5c414c16d5c81",
            "81ab3f7abd324f999db6cd4ef8e43da8"
          ]
        },
        "outputId": "02a8bbf1-e73e-4fb3-eb07-bfe3fc7b8572"
      },
      "source": [
        "config = AutoConfig.from_pretrained(model_name)\n",
        "\n",
        "#model = AutoModelForSequenceClassification.from_pretrained(model_name, config=config)\n",
        "model = XLMRobertaForSequenceClassification.from_pretrained(model_name, config=config)\n",
        "\n",
        "tokenizer = XLMRobertaTokenizer.from_pretrained(model_name)\n"
      ],
      "execution_count": null,
      "outputs": [
        {
          "output_type": "display_data",
          "data": {
            "application/vnd.jupyter.widget-view+json": {
              "model_id": "baab2c45ffbf42b3bd64cbfbfd2e1ca8",
              "version_minor": 0,
              "version_major": 2
            },
            "text/plain": [
              "Downloading:   0%|          | 0.00/2.09G [00:00<?, ?B/s]"
            ]
          },
          "metadata": {}
        }
      ]
    },
    {
      "cell_type": "code",
      "source": [
        "!ls"
      ],
      "metadata": {
        "id": "Ig8l4B-uEw0N"
      },
      "execution_count": null,
      "outputs": []
    },
    {
      "cell_type": "code",
      "metadata": {
        "id": "pehpukglAlgU"
      },
      "source": [
        "test_data = pd.read_csv(\n",
        "    #dataset1 test\n",
        "    #'https://raw.githubusercontent.com/cheatham1/EU-JAV-DATA/main/july_test_3categories_2.csv',\n",
        "\n",
        "    #dataset2 test\n",
        "    #'https://raw.githubusercontent.com/cheatham1/EU-JAV-DATA/main/no_replies_no_mentions_oct_test_3categories_2.csv',\n",
        "    \n",
        "  #  names=[\"label\", \"text\"]\n",
        "\n",
        "    # TOTAL dataset2 with dates\n",
        "    'https://raw.githubusercontent.com/cheatham1/EU-JAV-DATA/main/no_replies_no_mentions_date_oct_3categories.csv',\n",
        "    names=[\"label\", \"text\",\"YMD\", \"month\"]\n",
        ")\n"
      ],
      "execution_count": 18,
      "outputs": []
    },
    {
      "cell_type": "code",
      "source": [
        "test_data.head(2)"
      ],
      "metadata": {
        "id": "GUmDdBeWrUA4"
      },
      "execution_count": null,
      "outputs": []
    },
    {
      "cell_type": "code",
      "source": [
        "test_data.text.iloc[1]"
      ],
      "metadata": {
        "id": "h9GV0bc41mOs"
      },
      "execution_count": null,
      "outputs": []
    },
    {
      "cell_type": "code",
      "metadata": {
        "id": "URn2E7k5pJ_R"
      },
      "source": [
        "X_test = list(test_data[\"text\"])"
      ],
      "execution_count": 23,
      "outputs": []
    },
    {
      "cell_type": "code",
      "source": [
        "len(X_test)"
      ],
      "metadata": {
        "id": "7GthAM1IbrrR"
      },
      "execution_count": null,
      "outputs": []
    },
    {
      "cell_type": "code",
      "source": [
        "test_data.head()"
      ],
      "metadata": {
        "id": "b3XA6n04jSfG"
      },
      "execution_count": null,
      "outputs": []
    },
    {
      "cell_type": "code",
      "source": [
        "test_data.dtypes"
      ],
      "metadata": {
        "id": "gLWrDOnSqkf9"
      },
      "execution_count": null,
      "outputs": []
    },
    {
      "cell_type": "markdown",
      "metadata": {
        "id": "ZteqVetLA0Z9"
      },
      "source": [
        "## EU-JAVA transformer model\n",
        "## Classification of tweets for vaccine stance\n",
        "\n",
        "In this notebook we will use a transformer model for sequence classification we have finetuned on Italian tweets\n"
      ]
    },
    {
      "cell_type": "code",
      "metadata": {
        "id": "7EFm2XOyH2Y_"
      },
      "source": [
        "classifier = pipeline( task=\"text-classification\"  , model=model, tokenizer=tokenizer, config=config)"
      ],
      "execution_count": 19,
      "outputs": []
    },
    {
      "cell_type": "code",
      "source": [
        "classifier([\"avviso vaccino antinfluenzale 2018-19. come il mercurio causa processi neurodegenerativi cerebrali link\"])"
      ],
      "metadata": {
        "id": "k89yQQBgy-1O"
      },
      "execution_count": null,
      "outputs": []
    },
    {
      "cell_type": "code",
      "source": [
        "!pip install tqdm\n",
        "from tqdm import tqdm"
      ],
      "metadata": {
        "id": "8wwI9z22Awj2"
      },
      "execution_count": null,
      "outputs": []
    },
    {
      "cell_type": "code",
      "source": [
        "import time\n"
      ],
      "metadata": {
        "id": "A_t2cUnKkx8u"
      },
      "execution_count": 21,
      "outputs": []
    },
    {
      "cell_type": "code",
      "source": [
        "t1 = time.perf_counter()\n",
        "\n",
        "pred_label = []\n",
        "#for out in tqdm(classifier(X_test)):\n",
        "for out in classifier(X_test):\n",
        "    pred_label.append(out)\n",
        "\n",
        "t2 = time.perf_counter()\n",
        "print('time taken to run:',t2-t1)\n"
      ],
      "metadata": {
        "colab": {
          "base_uri": "https://localhost:8080/"
        },
        "id": "FTYo_5QvhFB6",
        "outputId": "e7596729-38bb-45d3-9a6f-62278bbc0c24"
      },
      "execution_count": 24,
      "outputs": [
        {
          "output_type": "stream",
          "name": "stdout",
          "text": [
            "time taken to run: 314.3273858419998\n"
          ]
        }
      ]
    },
    {
      "cell_type": "code",
      "source": [
        "len(pred_label)"
      ],
      "metadata": {
        "id": "3mBPf6H4CsD3"
      },
      "execution_count": null,
      "outputs": []
    },
    {
      "cell_type": "code",
      "source": [
        "pred_label[:10]"
      ],
      "metadata": {
        "id": "tHRXurB_Dayf"
      },
      "execution_count": null,
      "outputs": []
    },
    {
      "cell_type": "code",
      "source": [
        "labels = []\n",
        "for pred in pred_label:\n",
        "    labels.append(pred[\"label\"])\n"
      ],
      "metadata": {
        "id": "wvLCVaWS5Hp1"
      },
      "execution_count": 25,
      "outputs": []
    },
    {
      "cell_type": "code",
      "source": [
        "int_labels = []\n",
        "\n",
        "for string in labels:\n",
        "    int_label = string.replace(\"LABEL_\", \"\")\n",
        "    int_label = int(int_label)\n",
        "    int_labels.append(int_label)"
      ],
      "metadata": {
        "id": "U2CmVd22Pa5v"
      },
      "execution_count": 26,
      "outputs": []
    },
    {
      "cell_type": "code",
      "source": [
        "int_labels[:10]"
      ],
      "metadata": {
        "id": "uxbPIc9mPuhP"
      },
      "execution_count": null,
      "outputs": []
    },
    {
      "cell_type": "code",
      "metadata": {
        "id": "JAwPxuNO5OLn"
      },
      "source": [
        "import seaborn as sns\n",
        "import matplotlib.pyplot as plt\n",
        "sns.set_theme(style=\"whitegrid\")"
      ],
      "execution_count": null,
      "outputs": []
    },
    {
      "cell_type": "code",
      "metadata": {
        "id": "VPg8H9wn5UGi"
      },
      "source": [
        "sns.set_palette(\"Blues_r\")\n",
        "p = sns.countplot(x=labels)\n",
        "p.set_title(\"Dataset2: Stance Analysis Model Predictions\")\n",
        "p.set_xticklabels([\"Promotional\",\"Neutral\",\"Discouraging\"])"
      ],
      "execution_count": null,
      "outputs": []
    },
    {
      "cell_type": "code",
      "source": [
        "X_true_labels = list(test_data[\"label\"])"
      ],
      "metadata": {
        "id": "mjJXg34xP_oE"
      },
      "execution_count": null,
      "outputs": []
    },
    {
      "cell_type": "code",
      "source": [
        "X_true_labels[:10]"
      ],
      "metadata": {
        "id": "SxLw2FBTQDTn"
      },
      "execution_count": null,
      "outputs": []
    },
    {
      "cell_type": "code",
      "source": [
        "sns.set_palette(\"Greens_r\")\n",
        "p = sns.countplot(x= X_true_labels)\n",
        "p.set_title(\"Dataset2: Stance Analysis Labelled Data\")\n",
        "p.set_xticklabels([\"Promotional\",\"Neutral\",\"Discouraging\"])"
      ],
      "metadata": {
        "id": "u2ImsTVp_teJ"
      },
      "execution_count": null,
      "outputs": []
    },
    {
      "cell_type": "code",
      "source": [
        "# Compute confusion matrix\n",
        "#import matplotlib.pyplot as plt\n",
        "#import seaborn as sns\n",
        "from sklearn.metrics import confusion_matrix\n",
        "\n",
        "sns.set_theme(style=\"white\", palette=None)"
      ],
      "metadata": {
        "id": "Gn2fl9WJO4Yc"
      },
      "execution_count": null,
      "outputs": []
    },
    {
      "cell_type": "code",
      "source": [
        "from matplotlib import rcParams\n",
        "rcParams['figure.figsize'] = 8, 8\n",
        "myfont_size = 18"
      ],
      "metadata": {
        "id": "irLlcA9W1UIX"
      },
      "execution_count": null,
      "outputs": []
    },
    {
      "cell_type": "code",
      "source": [
        "confusion_matrix(int_labels, X_true_labels)"
      ],
      "metadata": {
        "id": "BZqMbyw0Qt43"
      },
      "execution_count": null,
      "outputs": []
    },
    {
      "cell_type": "code",
      "source": [
        "def plot_confusion_matrix(cm, classes,\n",
        "                          normalize=False,\n",
        "                          title='Confusion matrix',\n",
        "                          cmap=plt.cm.Blues):\n",
        "    \"\"\"\n",
        "    This function prints and plots the confusion matrix.\n",
        "    Normalization can be applied by setting `normalize=True`.\n",
        "    \"\"\"\n",
        "    if normalize:\n",
        "        cm = cm.astype('float') / cm.sum(axis=1)[:, np.newaxis]\n",
        "        print(\"Normalized confusion matrix\")\n",
        "    else:\n",
        "        print('Confusion matrix, without normalization')\n",
        "\n",
        "    print(cm)\n",
        "\n",
        "    plt.imshow(cm, interpolation='nearest', cmap=cmap)\n",
        "    plt.title(title)\n",
        "    plt.colorbar(shrink=0.7)\n",
        "    tick_marks = np.arange(len(classes))\n",
        "    #plt.xticks(tick_marks, classes, rotation=45)\n",
        "    plt.xticks(tick_marks, classes)\n",
        "    plt.yticks(tick_marks, classes)\n",
        "\n",
        "    fmt = '.2f' if normalize else 'd'\n",
        "    thresh = cm.max() / 2.\n",
        "    for i, j in itertools.product(range(cm.shape[0]), range(cm.shape[1])):\n",
        "        plt.text(j, i, format(cm[i, j], fmt),\n",
        "                 horizontalalignment=\"center\",\n",
        "                 color=\"white\" if cm[i, j] > thresh else \"black\",\n",
        "                 fontsize=myfont_size)\n",
        "\n",
        "    plt.tight_layout()\n",
        "    plt.ylabel('True label',fontsize=myfont_size)\n",
        "    plt.xlabel('Predicted label',fontsize=myfont_size)"
      ],
      "metadata": {
        "id": "G876AvVhOUlN"
      },
      "execution_count": null,
      "outputs": []
    },
    {
      "cell_type": "code",
      "source": [
        "import itertools\n",
        "class_names= [\"Promotional\",\"Neutral\",\"Discouraging\"]\n",
        "\n",
        "cnf_matrix = confusion_matrix(int_labels, X_true_labels)\n",
        "np.set_printoptions(precision=2)\n",
        "\n",
        "# Plot non-normalized confusion matrix\n",
        "plt.figure()\n",
        "plot_confusion_matrix(cnf_matrix, classes=class_names)\n",
        "plt.title('Confusion matrix, without normalization',fontsize=myfont_size)\n",
        "\n",
        "\n",
        "# Plot normalized confusion matrix\n",
        "plt.figure()\n",
        "plot_confusion_matrix(cnf_matrix, classes=class_names, normalize=True,\n",
        "                      title='Normalized confusion matrix')\n",
        "plt.title('Normalized Confusion Matrix',fontsize=myfont_size)\n",
        "\n",
        "plt.tight_layout()\n",
        "#plt.savefig(\"ConfusionMatrix.png\")\n",
        "plt.show()"
      ],
      "metadata": {
        "id": "Pwsqcv5RObQp"
      },
      "execution_count": null,
      "outputs": []
    },
    {
      "cell_type": "code",
      "source": [
        "test_data[\"Prediction\"] = int_labels"
      ],
      "metadata": {
        "id": "I7RpjsyWObaa"
      },
      "execution_count": null,
      "outputs": []
    },
    {
      "cell_type": "code",
      "source": [
        "test_data.head(10)"
      ],
      "metadata": {
        "id": "VToETaakObc3"
      },
      "execution_count": null,
      "outputs": []
    },
    {
      "cell_type": "code",
      "source": [
        "import matplotlib\n",
        "import matplotlib.pyplot as plt\n",
        "from matplotlib import rcParams\n",
        "rcParams['figure.figsize'] = 15, 8\n",
        "myfsize = 17\n",
        "\n",
        "\n",
        "discouraging_colour= \"#fc7d0b\"   \n",
        "neutral_colour = \"#86B049\"\n",
        "promotional_colour = \"#1170aa\"\n",
        "\n",
        "colours_3 = [promotional_colour,neutral_colour,discouraging_colour]\n",
        "\n",
        "stance_colours_3 = np.array([promotional_colour,\n",
        "                             neutral_colour,\n",
        "                             discouraging_colour,      \n",
        "                            ])\n",
        "cmap_stance = matplotlib.colors.LinearSegmentedColormap.from_list(\"\", stance_colours_3 )\n"
      ],
      "metadata": {
        "id": "j1obB7mpvyS0"
      },
      "execution_count": null,
      "outputs": []
    },
    {
      "cell_type": "code",
      "source": [
        "grouped_df = test_data.groupby(['month', 'label']).size().reset_index(name=\"Count\")\n",
        "sub_df = grouped_df.groupby(['month','label'])['Count'].sum().unstack()\n",
        "\n",
        "sub_df.columns = (\"promotional\", \"neutral\", \"discouraging\")"
      ],
      "metadata": {
        "id": "WCwPWD8pwH7h"
      },
      "execution_count": null,
      "outputs": []
    },
    {
      "cell_type": "code",
      "source": [
        "#plt.style.use('ggplot')\n",
        "sns.set_theme(style=\"white\", palette=None)\n",
        "\n",
        "p = sub_df.plot(kind='bar', stacked=True, cmap=cmap_stance ) \n",
        "\n",
        "p.set_xticklabels(('Feb', 'Mar', 'Apr', 'May','Jun', 'Jul','Aug', 'Sep'))\n",
        "p.tick_params(labelsize=myfsize)\n",
        "\n",
        "p.set_title('EU_JAV: Stance Tweet Count After Cleaning: Feb - Sept 2021',fontsize=myfsize)\n",
        "\n",
        "p.set_xlabel(\"Month 2021\",fontsize=myfsize, labelpad=20)\n",
        "p.set_ylabel(\"Number of Tweets\",fontsize=myfsize)\n",
        "p.legend(fontsize='x-large')\n",
        "\n",
        "fig = p.get_figure()"
      ],
      "metadata": {
        "id": "zyjbv8hYvu-3"
      },
      "execution_count": null,
      "outputs": []
    },
    {
      "cell_type": "code",
      "source": [
        "grouped_df_2 = test_data.groupby(['month', 'Prediction']).size().reset_index(name=\"Count\")\n",
        "sub_df_2 = grouped_df_2.groupby(['month','Prediction'])['Count'].sum().unstack()\n",
        "\n",
        "sub_df_2.columns = (\"promotional\", \"neutral\", \"discouraging\")"
      ],
      "metadata": {
        "id": "EwFnp1E5xPLY"
      },
      "execution_count": null,
      "outputs": []
    },
    {
      "cell_type": "code",
      "source": [
        "p_2 = sub_df_2.plot(kind='bar', stacked=True, cmap=cmap_stance ) \n",
        "\n",
        "p_2.set_xticklabels(('Feb', 'Mar', 'Apr', 'May','Jun', 'Jul','Aug', 'Sep'))\n",
        "p_2.tick_params(labelsize=myfsize)\n",
        "\n",
        "p_2.set_title('EU_JAV: Stance Prediction: Feb - Sept 2021',fontsize=myfsize)\n",
        "\n",
        "p_2.set_xlabel(\"Month\",fontsize=myfsize, labelpad=20)\n",
        "p_2.set_ylabel(\"Number of Tweets\",fontsize=myfsize)\n",
        "p_2.legend(fontsize='x-large')\n",
        "\n",
        "fig = p.get_figure()\n",
        "fig = p_2.get_figure()"
      ],
      "metadata": {
        "id": "u6ulfCbuxkx7"
      },
      "execution_count": null,
      "outputs": []
    },
    {
      "cell_type": "code",
      "source": [
        "sub_df"
      ],
      "metadata": {
        "id": "qCErDet423oq"
      },
      "execution_count": null,
      "outputs": []
    },
    {
      "cell_type": "code",
      "source": [
        "sub_df.columns"
      ],
      "metadata": {
        "id": "6mce-2tU4nZW"
      },
      "execution_count": null,
      "outputs": []
    },
    {
      "cell_type": "code",
      "source": [
        "sub_df_2"
      ],
      "metadata": {
        "id": "Zx5teVyv4akD"
      },
      "execution_count": null,
      "outputs": []
    },
    {
      "cell_type": "code",
      "source": [
        "fig, ax = plt.subplots()\n",
        "\n",
        "#ax.plot(sub_df)\n",
        "#sub_df_2.plot(ax=ax)\n",
        "\n",
        "\n",
        "ax.plot(sub_df)\n",
        "sub_df_2.plot(ax=ax)\n",
        "\n",
        "\n",
        "plt.show()"
      ],
      "metadata": {
        "id": "zsvhozqD2ryH"
      },
      "execution_count": null,
      "outputs": []
    },
    {
      "cell_type": "code",
      "source": [
        "fig, ax = plt.subplots()\n",
        "\n",
        "ax.plot(sub_df, linewidth=4 )\n",
        "ax.plot(sub_df_2, linewidth=2, linestyle='dashed')\n",
        "\n",
        "\n",
        "plt.show()"
      ],
      "metadata": {
        "id": "k8n9oYbd7XcZ"
      },
      "execution_count": null,
      "outputs": []
    },
    {
      "cell_type": "code",
      "source": [
        "\n",
        "ax = sub_df.plot(kind='bar', cmap=cmap_stance ) \n",
        "sub_df_2.plot(ax= ax, kind='line', cmap=cmap_stance ) \n",
        "\n",
        "#plt.show()\n"
      ],
      "metadata": {
        "id": "csk84HFJ_mPR"
      },
      "execution_count": null,
      "outputs": []
    }
  ]
}